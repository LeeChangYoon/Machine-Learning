{
 "cells": [
  {
   "cell_type": "markdown",
   "metadata": {},
   "source": [
    "# Numpy"
   ]
  },
  {
   "cell_type": "markdown",
   "metadata": {},
   "source": [
    "## 1. Import Numpy Library"
   ]
  },
  {
   "cell_type": "code",
   "execution_count": null,
   "metadata": {},
   "outputs": [],
   "source": [
    "import numpy as np\n"
   ]
  },
  {
   "cell_type": "markdown",
   "metadata": {},
   "source": [
    "## 2. Initialize the array, which is matrix."
   ]
  },
  {
   "cell_type": "code",
   "execution_count": 3,
   "metadata": {},
   "outputs": [
    {
     "name": "stdout",
     "output_type": "stream",
     "text": [
      "(3,)\n",
      "1 2 3\n",
      "(2, 3)\n",
      "1 2 4\n"
     ]
    }
   ],
   "source": [
    "a = np.array([1, 2, 3])    # rank가 1인 배열 생성\n",
    "print(a.shape)             # 출력 (3, ) \n",
    "print(a[0], a[1], a[2])    # 출력 1, 2,\n",
    "a[0] = 5                   # 요소를 변경 - \"[5, 2, 3]\"\n",
    "\n",
    "b = np.array([[1, 2, 3], [4, 5, 6]])   # rank가 2인 배열 생성\n",
    "\n",
    "print(b.shape)                      # 출력 (2, 3) --> 3x2 행렬\n",
    "print(b[0, 0], b[0, 1], b[1, 0])    # 출력 \"1, 2, 4\"\n"
   ]
  },
  {
   "cell_type": "code",
   "execution_count": 43,
   "metadata": {},
   "outputs": [
    {
     "name": "stdout",
     "output_type": "stream",
     "text": [
      "[[1. 0.]\n",
      " [0. 1.]]\n"
     ]
    }
   ],
   "source": [
    "a = np.zeros((2, 2))    # 모든 값이 0인 배열 생성\n",
    "b = np.ones((1, 2))     # 모든 값이 1인 배열 생성\n",
    "\n",
    "c = np.full((2, 2), 7)  # 모든 값이 특정 상수인 배열 생성\n",
    "d = np.eye(2)           # 2x2 단위 행렬 생성\n",
    "\n",
    "e = np.random.random((2, 2))    # 임의의 값으로 채워진 배열 생성\n"
   ]
  },
  {
   "cell_type": "markdown",
   "metadata": {},
   "source": [
    "## 3. Array indexing,                                                          similar to the python list indexing"
   ]
  },
  {
   "cell_type": "code",
   "execution_count": 5,
   "metadata": {},
   "outputs": [],
   "source": [
    "# shape (3, 4), 4x3 행렬\n",
    "\n",
    "a = np.array([[1, 2, 3, 4], [5, 6, 7, 8], [9, 10, 11, 12]])\n",
    "\n",
    "# 슬라이싱을 이용하여 첫 두 행과 1열, 2열로 이루어진 부분배열 생성\n",
    "\n",
    "# b는 shape가 (2, 2)인 배열이 됩니다: [[2, 3], [6, 7]]\n",
    "b = a[:2, 1:3]\n"
   ]
  },
  {
   "cell_type": "code",
   "execution_count": 6,
   "metadata": {},
   "outputs": [
    {
     "name": "stdout",
     "output_type": "stream",
     "text": [
      "2\n",
      "77\n"
     ]
    }
   ],
   "source": [
    "# 슬라이싱된 배열은 원본 배열과 같은 데이터를 참조합니다\n",
    "# 즉 슬라이싱된 배열을 수정하면 원본 배열 역시 수정됩니다.\n",
    "\n",
    "print(a[0, 1])    # 출력 2\n",
    "b[0, 0] = 77      # b[0, 0]은 a[0, 1]과 같은 데이터 입니다\n",
    "print(a[0, 1])    # 출력 77\n"
   ]
  },
  {
   "cell_type": "code",
   "execution_count": 9,
   "metadata": {},
   "outputs": [
    {
     "name": "stdout",
     "output_type": "stream",
     "text": [
      "[5 6 7 8] (4,)\n"
     ]
    }
   ],
   "source": [
    "# 행으로 조회\n",
    "\n",
    "# 1. 정수 인덱스와 슬라이스를 섞으면 더 낮은 순위의 배열 생성\n",
    "\n",
    "row_r1 = a[1, :]               # Rank 1\n",
    "print(row_r1, row_r1.shape)    # [5, 6, 7, 8] (4, )\n"
   ]
  },
  {
   "cell_type": "code",
   "execution_count": 10,
   "metadata": {},
   "outputs": [
    {
     "name": "stdout",
     "output_type": "stream",
     "text": [
      "[[5 6 7 8]] (1, 4)\n"
     ]
    }
   ],
   "source": [
    "# 행으로 조회\n",
    "\n",
    "# 2. 슬라이스만 사용하면 원래 배열과 동일한 순위의 배열 생성\n",
    "  \n",
    "row_r2 = a[1:2, :]             # Rank 2\n",
    "print(row_r2, row_r2.shape)    #[[5, 6, 7, 8]] (1, 4)"
   ]
  },
  {
   "cell_type": "code",
   "execution_count": 11,
   "metadata": {},
   "outputs": [
    {
     "name": "stdout",
     "output_type": "stream",
     "text": [
      "[77  6 10] (3,)\n",
      "[[77]\n",
      " [ 6]\n",
      " [10]] (3, 1)\n"
     ]
    }
   ],
   "source": [
    "# 열로 조회 \n",
    "\n",
    "col_1 = a[:, 1]\n",
    "print(col_1, col_1.shape)    # [2, 6, 10] (3, )\n",
    "\n",
    "col_2 = a[:, 1:2]\n",
    "print(col_2, col_2.shape)    # [[2], [6], [10]] (3, 1)\n"
   ]
  },
  {
   "cell_type": "code",
   "execution_count": 12,
   "metadata": {},
   "outputs": [
    {
     "name": "stdout",
     "output_type": "stream",
     "text": [
      "[1 4 5]\n",
      "[1 4 5]\n"
     ]
    }
   ],
   "source": [
    "a = np.array([[1, 2], [3, 4], [5, 6]])\n",
    "b = a[[0, 1, 2]]\n",
    "\n",
    "# \"[1 4 5]\"\n",
    "print(a[[0, 1, 2], [0, 1, 0]])\n",
    "print(np.array([a[0, 0], a[1, 1], a[2, 0]])) \n"
   ]
  },
  {
   "cell_type": "code",
   "execution_count": 17,
   "metadata": {},
   "outputs": [
    {
     "name": "stdout",
     "output_type": "stream",
     "text": [
      "[ 1  6  7 11]\n"
     ]
    }
   ],
   "source": [
    "a = np.array([[1, 2, 3], [4, 5, 6], [7, 8, 9], [10, 11, 12]])\n",
    "\n",
    "# element 선택 방식\n",
    "b = np.arange(4)\n",
    "c = np.array([0, 2, 0, 1])\n",
    "print(a[b, c])    # [1, 6, 7, 11]\n"
   ]
  },
  {
   "cell_type": "code",
   "execution_count": 18,
   "metadata": {},
   "outputs": [],
   "source": [
    "# 선택된 모든 element를 변경\n",
    "a[b, c] += 10\n",
    "\n",
    "# [[11, 2, 3], [4, 5, 16], [17, 8, 9], [10, 21, 12]]\n"
   ]
  },
  {
   "cell_type": "code",
   "execution_count": 19,
   "metadata": {},
   "outputs": [
    {
     "name": "stdout",
     "output_type": "stream",
     "text": [
      "[[False False]\n",
      " [ True  True]\n",
      " [ True  True]]\n",
      "[3 4 5 6]\n",
      "[3 4 5 6]\n"
     ]
    }
   ],
   "source": [
    "a = np.array([[1, 2], [3, 4], [5, 6]])\n",
    "bool_idx = (a > 2)\n",
    "print(bool_idx)\n",
    "# [[False, False], [True, True], [True, True]]\n",
    "\n",
    "print(a[bool_idx])    # [3, 4, 5, 6]\n",
    "print(a[a > 2])       # [3, 4, 5, 6]\n"
   ]
  },
  {
   "cell_type": "markdown",
   "metadata": {},
   "source": [
    "## 4. Datatypes."
   ]
  },
  {
   "cell_type": "code",
   "execution_count": 20,
   "metadata": {},
   "outputs": [
    {
     "name": "stdout",
     "output_type": "stream",
     "text": [
      "int32\n",
      "float64\n",
      "int32\n"
     ]
    }
   ],
   "source": [
    "x = np.array([1, 2])    \n",
    "print(x.dtype)          # int64\n",
    "\n",
    "x = np.array([1.0, 2.0])\n",
    "print(x.dtype)          # float64\n",
    "\n",
    "x = np.array([1, 2], dtype = np.int32)\n",
    "print(x.dtype)          # int32\n"
   ]
  },
  {
   "cell_type": "code",
   "execution_count": 22,
   "metadata": {},
   "outputs": [
    {
     "name": "stdout",
     "output_type": "stream",
     "text": [
      "<class 'numpy.ndarray'>\n",
      "[1, 2]\n",
      "<class 'list'>\n"
     ]
    }
   ],
   "source": [
    "# Numpy Array\n",
    "x = np.array([1, 2])    \n",
    "print(type(x))          # <class 'numpy.ndarray'>\n",
    "\n",
    "# numpy.ndarray to list\n",
    "y = x.tolist()\n",
    "print(y)                # [1, 2]\n",
    "print(type(y))          # <class 'list'>\n"
   ]
  },
  {
   "cell_type": "markdown",
   "metadata": {},
   "source": [
    "## 5. Array Math."
   ]
  },
  {
   "cell_type": "code",
   "execution_count": 23,
   "metadata": {},
   "outputs": [
    {
     "name": "stdout",
     "output_type": "stream",
     "text": [
      "[[ 6.  8.]\n",
      " [10. 12.]]\n",
      "[[ 6.  8.]\n",
      " [10. 12.]]\n",
      "[[-4. -4.]\n",
      " [-4. -4.]]\n",
      "[[-4. -4.]\n",
      " [-4. -4.]]\n"
     ]
    }
   ],
   "source": [
    "x = np.array([[1, 2], [3, 4]], dtype = np.float64)\n",
    "y = np.array([[5, 6], [7, 8]], dtype = np.float64)\n",
    "\n",
    "print(x + y)                # 더하기\n",
    "print(np.add(x, y))         # 더하기\n",
    "\n",
    "print(x - y)                # 빼기\n",
    "print(np.subtract(x, y))    # 빼기\n"
   ]
  },
  {
   "cell_type": "code",
   "execution_count": 26,
   "metadata": {},
   "outputs": [
    {
     "name": "stdout",
     "output_type": "stream",
     "text": [
      "[[ 5. 12.]\n",
      " [21. 32.]]\n",
      "[[ 5. 12.]\n",
      " [21. 32.]]\n",
      "[[0.2        0.33333333]\n",
      " [0.42857143 0.5       ]]\n",
      "[[0.2        0.33333333]\n",
      " [0.42857143 0.5       ]]\n",
      "[[1.         1.41421356]\n",
      " [1.73205081 2.        ]]\n"
     ]
    }
   ],
   "source": [
    "print(x * y)                # 곱하기\n",
    "print(np.multiply(x, y))    # 곱하기\n",
    "\n",
    "print(x / y)                # 나누기\n",
    "print(np.divide(x, y))      # 나누기\n",
    "\n",
    "print(np.sqrt(x))           # 제곱\n"
   ]
  },
  {
   "cell_type": "code",
   "execution_count": 27,
   "metadata": {},
   "outputs": [],
   "source": [
    "x = np.array([[1, 2], [3, 4]])\n",
    "y = np.array([[5, 6], [7, 8]])\n",
    "\n",
    "v = np.array([9, 10])\n",
    "w = np.array([11, 12])\n"
   ]
  },
  {
   "cell_type": "code",
   "execution_count": 28,
   "metadata": {},
   "outputs": [
    {
     "name": "stdout",
     "output_type": "stream",
     "text": [
      "219\n",
      "219\n",
      "[29 67]\n",
      "[29 67]\n"
     ]
    }
   ],
   "source": [
    "# (1, 2) * (1, 2), 219\n",
    "print(v.dot(w))\n",
    "print(np.dot(v, w))\n",
    "\n",
    "# (2, 2) * (1, 2), [26 67]\n",
    "print(x.dot(v))\n",
    "print(np.dot(x, v))\n"
   ]
  },
  {
   "cell_type": "code",
   "execution_count": 29,
   "metadata": {},
   "outputs": [
    {
     "name": "stdout",
     "output_type": "stream",
     "text": [
      "[[19 22]\n",
      " [43 50]]\n",
      "[[19 22]\n",
      " [43 50]]\n"
     ]
    }
   ],
   "source": [
    "# (2, 2) * (2, 2), rank 2 array\n",
    "# [[19 22], [43 50]]\n",
    "print(x.dot(y))\n",
    "print(np.dot(x, y))\n"
   ]
  },
  {
   "cell_type": "code",
   "execution_count": 30,
   "metadata": {},
   "outputs": [
    {
     "name": "stdout",
     "output_type": "stream",
     "text": [
      "10\n",
      "[4 6]\n",
      "[3 7]\n"
     ]
    }
   ],
   "source": [
    "x = np.array([[1, 2], [3, 4]])\n",
    "\n",
    "print(np.sum(x)) # 전체 합산, 10\n",
    "\n",
    "print(np.sum(x, axis=0)) # 열 합산, [4 6]\n",
    "\n",
    "print(np.sum(x, axis=1)) # 행 합산, [3 7]\n"
   ]
  },
  {
   "cell_type": "code",
   "execution_count": 31,
   "metadata": {},
   "outputs": [
    {
     "name": "stdout",
     "output_type": "stream",
     "text": [
      "[[1 2]\n",
      " [3 4]]\n",
      "[[1 3]\n",
      " [2 4]]\n"
     ]
    }
   ],
   "source": [
    "x = np.array([[1, 2], [3, 4]])\n",
    "print(x)   # [[1 2], [3 4]]\n",
    "\n",
    "# 전치 행렬\n",
    "print(x.T) # [[1 3], [2 4]]\n"
   ]
  },
  {
   "cell_type": "code",
   "execution_count": 32,
   "metadata": {},
   "outputs": [
    {
     "name": "stdout",
     "output_type": "stream",
     "text": [
      "[[1 2 3 4]]\n",
      "(1, 4)\n",
      "[[1]\n",
      " [2]\n",
      " [3]\n",
      " [4]]\n"
     ]
    }
   ],
   "source": [
    "x = np.array([1, 2, 3, 4], ndmin=2) # ndmin 없이 해보기\n",
    "print(x)       # [[1 2 3 4]]\n",
    "print(x.shape) # (1, 4)\n",
    "\n",
    "# 전치 행렬\n",
    "print(x.T)    # [[1], [2], [3], [4]]"
   ]
  },
  {
   "cell_type": "markdown",
   "metadata": {},
   "source": [
    "## 6. Broadcasting"
   ]
  },
  {
   "cell_type": "code",
   "execution_count": 36,
   "metadata": {},
   "outputs": [],
   "source": [
    "# 서로 다른 모양의 배열 생성\n",
    "x = np.array([[1, 2, 3], [4, 5, 6], [7, 8, 9], [10, 11, 12]])\n",
    "v = np.array([1, 0, 1])\n"
   ]
  },
  {
   "cell_type": "code",
   "execution_count": 35,
   "metadata": {},
   "outputs": [
    {
     "name": "stdout",
     "output_type": "stream",
     "text": [
      "[[ 1  2  3]\n",
      " [ 4  5  6]\n",
      " [ 7  8  9]\n",
      " [10 11 12]]\n",
      "[[ 2  4  6]\n",
      " [ 8 10 12]\n",
      " [14 16 18]\n",
      " [20 22 24]]\n"
     ]
    }
   ],
   "source": [
    "print(x)\n",
    "# [[ 1 2 3], [ 4 5 6]]\n",
    "\n",
    "print(x * 2)\n",
    "# [[ 2 4 6], [ 8 10 12]]\n"
   ]
  },
  {
   "cell_type": "code",
   "execution_count": 34,
   "metadata": {},
   "outputs": [
    {
     "name": "stdout",
     "output_type": "stream",
     "text": [
      "[[ 2  2  4]\n",
      " [ 5  5  7]\n",
      " [ 8  8 10]\n",
      " [11 11 13]]\n"
     ]
    }
   ],
   "source": [
    "# broadcasting, v를 x의 각 행에 더한다.\n",
    "y = x + v \n",
    "print(y) # \"[[ 2 2 4], [ 5 5 7], [ 8 8 10], [11 11 13]]\n"
   ]
  },
  {
   "cell_type": "code",
   "execution_count": 37,
   "metadata": {},
   "outputs": [
    {
     "name": "stdout",
     "output_type": "stream",
     "text": [
      "[[2 4 6]\n",
      " [5 7 9]]\n"
     ]
    }
   ],
   "source": [
    "v = np.array([1, 2, 3])                 # shape (3,)\n",
    "x = np.array([[1, 2, 3], [4, 5, 6]])    # shape (3, 2), 3x2 행렬\n",
    "print(x + v)\n",
    "# [[2 4 6], [5 7 9]]\n"
   ]
  },
  {
   "cell_type": "code",
   "execution_count": 38,
   "metadata": {},
   "outputs": [
    {
     "name": "stdout",
     "output_type": "stream",
     "text": [
      "[[1]\n",
      " [2]\n",
      " [3]]\n",
      "[[ 4  5]\n",
      " [ 8 10]\n",
      " [12 15]]\n"
     ]
    }
   ],
   "source": [
    "v = np.array([1, 2, 3])    # shape (3,)\n",
    "w = np.array([4, 5])       # shape (2,)\n",
    "\n",
    "# 1x3 행렬 * 2x1 행렬 => 2x3 행렬\n",
    "print(np.reshape(v, (3, 1)))\n",
    "print(np.reshape(v, (3, 1)) * w)\n"
   ]
  },
  {
   "cell_type": "code",
   "execution_count": 39,
   "metadata": {},
   "outputs": [
    {
     "name": "stdout",
     "output_type": "stream",
     "text": [
      "[[ 5  9]\n",
      " [ 6 10]\n",
      " [ 7 11]]\n",
      "[[ 5  6  7]\n",
      " [ 9 10 11]]\n"
     ]
    }
   ],
   "source": [
    "# 3x2 의 전치 행렬(2x3)과 Array w (2,) 덧셈 => 2x3 행렬\n",
    "print(x.T + w)\n",
    "\n",
    "# 결과 2x3 행렬의 전치 행렬 => 3x2 행렬\n",
    "print((x.T + w).T)\n",
    "# [[ 5 6 7], [ 9 10 11]]\n"
   ]
  },
  {
   "cell_type": "code",
   "execution_count": 45,
   "metadata": {},
   "outputs": [
    {
     "name": "stdout",
     "output_type": "stream",
     "text": [
      "[[4]\n",
      " [5]]\n",
      "[[ 5  6  7]\n",
      " [ 9 10 11]]\n"
     ]
    }
   ],
   "source": [
    "# w를 1x2 행렬로 변경\n",
    "print(np.reshape(w, (2, 1)))\n",
    "\n",
    "# 3x2 행렬과 1x2 행렬 덧셈\n",
    "print(x + np.reshape(w, (2, 1)))\n"
   ]
  },
  {
   "cell_type": "code",
   "execution_count": null,
   "metadata": {},
   "outputs": [],
   "source": []
  }
 ],
 "metadata": {
  "kernelspec": {
   "display_name": "Python 3",
   "language": "python",
   "name": "python3"
  },
  "language_info": {
   "codemirror_mode": {
    "name": "ipython",
    "version": 3
   },
   "file_extension": ".py",
   "mimetype": "text/x-python",
   "name": "python",
   "nbconvert_exporter": "python",
   "pygments_lexer": "ipython3",
   "version": "3.6.4"
  }
 },
 "nbformat": 4,
 "nbformat_minor": 2
}
