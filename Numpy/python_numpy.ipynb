{
 "cells": [
  {
   "cell_type": "markdown",
   "metadata": {},
   "source": [
    "# Numpy\n",
    "\n",
    "## Starting Numpy before studying ML\n",
    "\n",
    "Numpy is library used in the field of computational science. It provides high-performance, multi-dimensional arrays and the tools to handle them.\n",
    "\n",
    "### Objects\n",
    "\n",
    "1. We can use numby library.\n",
    "2. We can understand when to use the numpy.\n",
    "3. Understand the difference between numpy array and python list.\n",
    "4. We can create and calculate various shap of matrix (numpy array).\n",
    "5. We can process the data from files by using numpy."
   ]
  },
  {
   "cell_type": "markdown",
   "metadata": {},
   "source": [
    "## 0. Import Numpy Library"
   ]
  },
  {
   "cell_type": "code",
   "execution_count": 1,
   "metadata": {},
   "outputs": [],
   "source": [
    "import numpy as np"
   ]
  },
  {
   "cell_type": "code",
   "execution_count": 2,
   "metadata": {},
   "outputs": [
    {
     "name": "stdout",
     "output_type": "stream",
     "text": [
      "<class 'numpy.ndarray'>\n",
      "(400,)\n",
      "1\n"
     ]
    }
   ],
   "source": [
    "# Read the csv file.\n",
    "data = np.genfromtxt(\"./graduate_apply.csv\", delimiter=\",\", names=True)\n",
    "print(type(data))\n",
    "print(data.shape)\n",
    "print(data.ndim)"
   ]
  },
  {
   "cell_type": "code",
   "execution_count": 3,
   "metadata": {},
   "outputs": [
    {
     "name": "stdout",
     "output_type": "stream",
     "text": [
      "5.140555642659415e-07\n",
      "C:\\Users\\Lee Chang Yoon\\Tensorflow\\실습자료\\PythonBasics\n"
     ]
    }
   ],
   "source": [
    "# Useful libraries 01\n",
    "import time\n",
    "import os\n",
    "\n",
    "print(time.clock())\n",
    "print(os.getcwd())"
   ]
  },
  {
   "cell_type": "code",
   "execution_count": 4,
   "metadata": {},
   "outputs": [
    {
     "data": {
      "image/png": "[encoded data removed]",
      "text/plain": [
       "<Figure size 432x288 with 1 Axes>"
      ]
     },
     "metadata": {
      "needs_background": "light"
     },
     "output_type": "display_data"
    }
   ],
   "source": [
    "# Useful libraries 02\n",
    "\n",
    "%matplotlib inline\n",
    "import matplotlib.pyplot as plt\n",
    "import matplotlib.image as mpimg\n",
    "\n",
    "img = mpimg.imread('https://upload.wikimedia.org/wikipedia/commons/a/a4/TensorFlowLogo.png')\n",
    "imgplot = plt.imshow(img)"
   ]
  },
  {
   "cell_type": "markdown",
   "metadata": {},
   "source": [
    "## 1. Create arrays"
   ]
  },
  {
   "cell_type": "code",
   "execution_count": 6,
   "metadata": {},
   "outputs": [
    {
     "name": "stdout",
     "output_type": "stream",
     "text": [
      "<class 'numpy.ndarray'>\n",
      "(3,)\n",
      "1 2 3\n"
     ]
    }
   ],
   "source": [
    "# Rank 1 array\n",
    "a = np.array([1, 2, 3])\n",
    "\n",
    "print(type(a))            # \"<class 'numpy.ndarray'>\"\n",
    "print(a.shape)            # \"(3,)\"\n",
    "print(a[0], a[1], a[2])   # \"1 2 3\""
   ]
  },
  {
   "cell_type": "code",
   "execution_count": 7,
   "metadata": {},
   "outputs": [
    {
     "name": "stdout",
     "output_type": "stream",
     "text": [
      "(2, 3)\n",
      "1 2 4\n"
     ]
    }
   ],
   "source": [
    "# Rank 2 array\n",
    "b = np.array([[1, 2, 3], \n",
    "              [4, 5, 6]])\n",
    "print(b.shape)                     # \"(2, 3)\" \n",
    "print(b[0, 0], b[0, 1], b[1, 0])   # \"1 2 4\""
   ]
  },
  {
   "cell_type": "code",
   "execution_count": 8,
   "metadata": {},
   "outputs": [
    {
     "name": "stdout",
     "output_type": "stream",
     "text": [
      "[5 2 3]\n",
      "[[5 2 3]\n",
      " [4 5 6]]\n"
     ]
    }
   ],
   "source": [
    "# Changing values\n",
    "a[0] = 5\n",
    "print(a)\n",
    "\n",
    "b[0, 0] = 5\n",
    "print(b)"
   ]
  },
  {
   "cell_type": "code",
   "execution_count": 9,
   "metadata": {},
   "outputs": [
    {
     "data": {
      "text/plain": [
       "['T',\n",
       " '__abs__',\n",
       " '__add__',\n",
       " '__and__',\n",
       " '__array__',\n",
       " '__array_finalize__',\n",
       " '__array_interface__',\n",
       " '__array_prepare__',\n",
       " '__array_priority__',\n",
       " '__array_struct__',\n",
       " '__array_ufunc__',\n",
       " '__array_wrap__',\n",
       " '__bool__',\n",
       " '__class__',\n",
       " '__complex__',\n",
       " '__contains__',\n",
       " '__copy__',\n",
       " '__deepcopy__',\n",
       " '__delattr__',\n",
       " '__delitem__',\n",
       " '__dir__',\n",
       " '__divmod__',\n",
       " '__doc__',\n",
       " '__eq__',\n",
       " '__float__',\n",
       " '__floordiv__',\n",
       " '__format__',\n",
       " '__ge__',\n",
       " '__getattribute__',\n",
       " '__getitem__',\n",
       " '__gt__',\n",
       " '__hash__',\n",
       " '__iadd__',\n",
       " '__iand__',\n",
       " '__ifloordiv__',\n",
       " '__ilshift__',\n",
       " '__imatmul__',\n",
       " '__imod__',\n",
       " '__imul__',\n",
       " '__index__',\n",
       " '__init__',\n",
       " '__init_subclass__',\n",
       " '__int__',\n",
       " '__invert__',\n",
       " '__ior__',\n",
       " '__ipow__',\n",
       " '__irshift__',\n",
       " '__isub__',\n",
       " '__iter__',\n",
       " '__itruediv__',\n",
       " '__ixor__',\n",
       " '__le__',\n",
       " '__len__',\n",
       " '__lshift__',\n",
       " '__lt__',\n",
       " '__matmul__',\n",
       " '__mod__',\n",
       " '__mul__',\n",
       " '__ne__',\n",
       " '__neg__',\n",
       " '__new__',\n",
       " '__or__',\n",
       " '__pos__',\n",
       " '__pow__',\n",
       " '__radd__',\n",
       " '__rand__',\n",
       " '__rdivmod__',\n",
       " '__reduce__',\n",
       " '__reduce_ex__',\n",
       " '__repr__',\n",
       " '__rfloordiv__',\n",
       " '__rlshift__',\n",
       " '__rmatmul__',\n",
       " '__rmod__',\n",
       " '__rmul__',\n",
       " '__ror__',\n",
       " '__rpow__',\n",
       " '__rrshift__',\n",
       " '__rshift__',\n",
       " '__rsub__',\n",
       " '__rtruediv__',\n",
       " '__rxor__',\n",
       " '__setattr__',\n",
       " '__setitem__',\n",
       " '__setstate__',\n",
       " '__sizeof__',\n",
       " '__str__',\n",
       " '__sub__',\n",
       " '__subclasshook__',\n",
       " '__truediv__',\n",
       " '__xor__',\n",
       " 'all',\n",
       " 'any',\n",
       " 'argmax',\n",
       " 'argmin',\n",
       " 'argpartition',\n",
       " 'argsort',\n",
       " 'astype',\n",
       " 'base',\n",
       " 'byteswap',\n",
       " 'choose',\n",
       " 'clip',\n",
       " 'compress',\n",
       " 'conj',\n",
       " 'conjugate',\n",
       " 'copy',\n",
       " 'ctypes',\n",
       " 'cumprod',\n",
       " 'cumsum',\n",
       " 'data',\n",
       " 'diagonal',\n",
       " 'dot',\n",
       " 'dtype',\n",
       " 'dump',\n",
       " 'dumps',\n",
       " 'fill',\n",
       " 'flags',\n",
       " 'flat',\n",
       " 'flatten',\n",
       " 'getfield',\n",
       " 'imag',\n",
       " 'item',\n",
       " 'itemset',\n",
       " 'itemsize',\n",
       " 'max',\n",
       " 'mean',\n",
       " 'min',\n",
       " 'nbytes',\n",
       " 'ndim',\n",
       " 'newbyteorder',\n",
       " 'nonzero',\n",
       " 'partition',\n",
       " 'prod',\n",
       " 'ptp',\n",
       " 'put',\n",
       " 'ravel',\n",
       " 'real',\n",
       " 'repeat',\n",
       " 'reshape',\n",
       " 'resize',\n",
       " 'round',\n",
       " 'searchsorted',\n",
       " 'setfield',\n",
       " 'setflags',\n",
       " 'shape',\n",
       " 'size',\n",
       " 'sort',\n",
       " 'squeeze',\n",
       " 'std',\n",
       " 'strides',\n",
       " 'sum',\n",
       " 'swapaxes',\n",
       " 'take',\n",
       " 'tobytes',\n",
       " 'tofile',\n",
       " 'tolist',\n",
       " 'tostring',\n",
       " 'trace',\n",
       " 'transpose',\n",
       " 'var',\n",
       " 'view']"
      ]
     },
     "execution_count": 9,
     "metadata": {},
     "output_type": "execute_result"
    }
   ],
   "source": [
    "dir(a)    # Shows the attribute of np.ndarray"
   ]
  },
  {
   "cell_type": "markdown",
   "metadata": {},
   "source": [
    "### reshape"
   ]
  },
  {
   "cell_type": "code",
   "execution_count": 10,
   "metadata": {},
   "outputs": [
    {
     "name": "stdout",
     "output_type": "stream",
     "text": [
      "(3, 2)\n"
     ]
    }
   ],
   "source": [
    "# reshape\n",
    "c = np.reshape(b, (3, 2))\n",
    "print(c.shape)                     # \"(3, 2)\""
   ]
  },
  {
   "cell_type": "code",
   "execution_count": 11,
   "metadata": {},
   "outputs": [
    {
     "name": "stdout",
     "output_type": "stream",
     "text": [
      "(64, 64, 3)\n"
     ]
    }
   ],
   "source": [
    "# 64 * 64 * 3\n",
    "arr = np.zeros((64, 64, 3))\n",
    "print(arr.shape)"
   ]
  },
  {
   "cell_type": "code",
   "execution_count": 12,
   "metadata": {},
   "outputs": [
    {
     "name": "stdout",
     "output_type": "stream",
     "text": [
      "(4096, 3)\n"
     ]
    }
   ],
   "source": [
    "b = arr.reshape(64 * 64, 3) \n",
    "print(b.shape)"
   ]
  },
  {
   "cell_type": "code",
   "execution_count": 13,
   "metadata": {},
   "outputs": [
    {
     "name": "stdout",
     "output_type": "stream",
     "text": [
      "(16, 16, 48)\n"
     ]
    }
   ],
   "source": [
    "# -1 means that it is remainder of vlaues after setting 1st and 2nd to 16 and 16.\n",
    "c = arr.reshape(16, 16, -1) \n",
    "print(c.shape) \n",
    "# (64 * 64 * 3) / (16 * 16) = 48, so -1 goes to 48."
   ]
  },
  {
   "cell_type": "markdown",
   "metadata": {},
   "source": [
    "### Functions of creating array\n",
    "\n",
    "Numpy offeres various functions to create array"
   ]
  },
  {
   "cell_type": "code",
   "execution_count": 14,
   "metadata": {},
   "outputs": [
    {
     "name": "stdout",
     "output_type": "stream",
     "text": [
      "[[0. 0.]\n",
      " [0. 0.]]\n"
     ]
    }
   ],
   "source": [
    "# Array filled with 0\n",
    "a = np.zeros((2, 2))\n",
    "print(a)              # \"[[ 0.  0.]\n",
    "                      #   [ 0.  0.]]\""
   ]
  },
  {
   "cell_type": "code",
   "execution_count": 15,
   "metadata": {},
   "outputs": [
    {
     "name": "stdout",
     "output_type": "stream",
     "text": [
      "[[1. 1.]]\n"
     ]
    }
   ],
   "source": [
    "# Array filled with 1\n",
    "b = np.ones((1, 2))\n",
    "print(b)              # \"[[ 1.  1.]]\""
   ]
  },
  {
   "cell_type": "code",
   "execution_count": 16,
   "metadata": {},
   "outputs": [
    {
     "name": "stdout",
     "output_type": "stream",
     "text": [
      "[[7. 7.]\n",
      " [7. 7.]]\n"
     ]
    }
   ],
   "source": [
    "# Array filled with specific value\n",
    "c = np.full((2, 2), 7.)  \n",
    "print(c)               # \"[[ 7.  7.]\n",
    "                       #   [ 7.  7.]]\""
   ]
  },
  {
   "cell_type": "code",
   "execution_count": 17,
   "metadata": {},
   "outputs": [
    {
     "name": "stdout",
     "output_type": "stream",
     "text": [
      "[0 1 2 3 4 5 6 7 8 9]\n"
     ]
    }
   ],
   "source": [
    "# Sequence array\n",
    "c = np.arange(0, 10)\n",
    "print(c)"
   ]
  },
  {
   "cell_type": "code",
   "execution_count": 19,
   "metadata": {},
   "outputs": [
    {
     "name": "stdout",
     "output_type": "stream",
     "text": [
      "[[1. 0.]\n",
      " [0. 1.]]\n"
     ]
    }
   ],
   "source": [
    "# 2x2 identity matrix\n",
    "d = np.eye(2)\n",
    "print(d)              # \"[[ 1.  0.]\n",
    "                      #   [ 0.  1.]]\""
   ]
  },
  {
   "cell_type": "code",
   "execution_count": 21,
   "metadata": {},
   "outputs": [
    {
     "name": "stdout",
     "output_type": "stream",
     "text": [
      "[[0.56674919 0.69882529]\n",
      " [0.21326038 0.60464123]]\n",
      "[[ 5 15]\n",
      " [ 2  1]]\n"
     ]
    }
   ],
   "source": [
    "# Array filled with random values\n",
    "e = np.random.random((2, 2))\n",
    "print(e)\n",
    "e = np.random.randint(16, size=(2, 2))\n",
    "print(e)"
   ]
  },
  {
   "cell_type": "code",
   "execution_count": 22,
   "metadata": {},
   "outputs": [
    {
     "name": "stdout",
     "output_type": "stream",
     "text": [
      "[[0 1 2 3 4]\n",
      " [5 6 7 8 9]]\n",
      "[[10 11 12 13 14]\n",
      " [15 16 17 18 19]]\n",
      "[[ 0  1  2  3  4]\n",
      " [ 5  6  7  8  9]\n",
      " [10 11 12 13 14]\n",
      " [15 16 17 18 19]]\n",
      "[[ 0  1  2  3  4 10 11 12 13 14]\n",
      " [ 5  6  7  8  9 15 16 17 18 19]]\n"
     ]
    }
   ],
   "source": [
    "# concatenate\n",
    "c1 = np.arange(0, 10).reshape(2, 5)\n",
    "c2 = np.arange(10, 20).reshape(2, 5)\n",
    "print(c1)\n",
    "print(c2)\n",
    "\n",
    "print(np.concatenate((c1, c2), axis=0))\n",
    "print(np.concatenate((c1, c2), axis=1))"
   ]
  },
  {
   "cell_type": "markdown",
   "metadata": {},
   "source": [
    "### list vs numpy array (processing time)"
   ]
  },
  {
   "cell_type": "code",
   "execution_count": 23,
   "metadata": {},
   "outputs": [
    {
     "name": "stdout",
     "output_type": "stream",
     "text": [
      "0.20567798614501953\n",
      "0.0010004043579101562\n"
     ]
    }
   ],
   "source": [
    "li = list(range(1000000))\n",
    "\n",
    "start = time.time()\n",
    "li = [e * 2 for e in li]\n",
    "print(time.time() - start)\n",
    "\n",
    "np_li = np.arange(1000000)\n",
    "\n",
    "start = time.time()\n",
    "np_li *= 2\n",
    "print(time.time() - start)"
   ]
  },
  {
   "cell_type": "markdown",
   "metadata": {},
   "source": [
    "### Practice"
   ]
  },
  {
   "cell_type": "code",
   "execution_count": 24,
   "metadata": {},
   "outputs": [
    {
     "name": "stdout",
     "output_type": "stream",
     "text": [
      "(6,)\n",
      "(6,)\n",
      "(6, 1)\n",
      "(1, 6)\n",
      "(2, 3)\n",
      "[[ 95  80 107 226 250 238 226  48  52 217 115 209 141  50   3  99 168   6\n",
      "   99  93  29  73  69  80  95 186  41 134]\n",
      " [122 227  83 100 171 114 102 161 149 124  93  46 246 174 254  54  18 139\n",
      "  159 147 192  89  38 185 111  38  78 170]\n",
      " [172 113 128  92  68 127 174 141  61 228  74 237  54 166 228 254 150 175\n",
      "   83 156 163  13 213 251 150 187 253  37]\n",
      " [ 72  85  35 189  20  71 252  45  65 252  60 234  32 171 195  29 212  35\n",
      "  201 169 111 177  27 236 220 244 193  48]\n",
      " [105  79 239 113  98 106  28 215  87 147  75 242 122 252 144 152  12 110\n",
      "  229   6 233  34 153 254 126 246 207 146]\n",
      " [ 91 231  75 145 114 250 227 123 225  86 179 246  94 245 202  47 190  69\n",
      "  245 194  32  54 186  53 105 207  42 118]\n",
      " [ 35  75  47 225  54  21 226 233  17   6 182 211  47  91 191  14   1 134\n",
      "   14  79 166 102  56 166 115  70 230 175]\n",
      " [250  68 158 226 128 101 154 224  18  67 217  65 246 217 227  91 184 109\n",
      "  139  48  32 112 161 226 148  39 248 114]\n",
      " [  2  39 140 248  84 240 186  48 152  79 102 193 143 109 216 109 116  10\n",
      "   99 112 232  26  80  41   5  93  92   9]\n",
      " [ 21 121 188 201 178  37 142 244 101  16 180  16 146 144 154 198 125 102\n",
      "   90 128  17  26   9 244  86  34 249 110]\n",
      " [218 251 188   4 131 228  59 175 236 220  63 254  87  82 144   1 124 105\n",
      "  101 118 171 232 183 177 119   8   8 147]\n",
      " [ 45 183 180 129 135 152 157 239 113 112  63  66 161 185  18 194 190 172\n",
      "  200  48 254  24 204 134 248 224 202 250]\n",
      " [241 162 239 142 225 112 218  59 245  26 140  37 171 159 230  42 174 152\n",
      "   87 111 227 120 134   9 119  83 216 232]\n",
      " [199 221 237 209 126  61 192  97 235 219 176  99  75 249  77  79 204 150\n",
      "  105  47 196 218 134  15 248 174  70 180]\n",
      " [120  84 138 211  55  79  84 103  81 216 136 226 124 216  84 116 122 141\n",
      "   98 219  22 243 112   6 233  75  95  36]\n",
      " [197  69 204 224  92 241  37 236 202  32  50  44 208 189  77 130  40 211\n",
      "  241  63 244 212 113  82  72 108 244  29]\n",
      " [ 65 143  96  59 207  25 183 171  65  20 142  51 179 213 194 168   1  60\n",
      "  219 208  23 223 194 116   8 109 112  19]\n",
      " [249 230 163 104 188  93 180  96 160 150 124 187  90 168 146   0  81 186\n",
      "  132 209  35  35 238  14 126 210 236  29]\n",
      " [ 44 192 120 213  67 188 184 207  22 197  38 141 114  66 118  70 144  85\n",
      "   84 125  15 206  25 129 178 123  98 122]\n",
      " [124  95 104  81 168 103  70   2  33 190  16 169   8  11  50 130  47 126\n",
      "   58 131  20 136 224  85 219 204 243  60]\n",
      " [231  14 239  56 133 139 245 160 166  76  91 117 253  76 192 168 231 171\n",
      "   93  23  37 158  45  17  42  97  35 123]\n",
      " [229 237  16  11 224  67 248 254   4 232  78 168 149 242  95 104  53 240\n",
      "   98 227  64 213  36  90  93 147  73  46]\n",
      " [ 45 132 124 147 134 209 216  67 124 214  73 136 152  55  34 229 152  67\n",
      "    5  58   9  37  84  50 126 111 186 225]\n",
      " [ 64  93 110 187 232 227 103  15 154 236 136 249  87 208  41  44  87 225\n",
      "  228  18 211 206 162  71  65 161 197 201]\n",
      " [216 154  12 218 112 186  50  77 103 194 207 231  43 171   7  66 221 123\n",
      "   87 133  65  94 139  65  35  43  30 217]\n",
      " [ 70 206  91 157   2  70 216 184  98 105 126  15 162 126   0 192 140 134\n",
      "  223  35  48 168 227 172 115  89  91  14]\n",
      " [232 214 199 194  98  92 179 178 227 244 110  28  39 217  53 101 232 160\n",
      "  132 123  15 224  87 218 223 200 137  43]\n",
      " [ 46 225 148 112 177 222   7 214  41 198 173 149 204  97 140  88 122  18\n",
      "  230  71 181 116 237  16 242 244 131   4]]\n"
     ]
    }
   ],
   "source": [
    "a = [1, 2, 3, 4, 5, 6]\n",
    "\n",
    "# Create numpy array np_01 by using a.\n",
    "np_01 = np.array(a)\n",
    "\n",
    "# Check the shape of np_01.\n",
    "print(np_01.shape)\n",
    "\n",
    "# Put np_01 to np_02 after changing the shape of np_01 to (6, 1).\n",
    "np_02 = np_01.reshape(6, 1)\n",
    "\n",
    "# Put np_01 to np_03 after changing the shape of np_01 to (1, 6).\n",
    "np_03 = np_01.reshape(1, 6)\n",
    "\n",
    "# Put np_01 to np_04 after changing the shape of (-1, 2).\n",
    "np_04 = np_01.reshape(-1, 3)\n",
    "\n",
    "# Print the shapes of np_01, np_02, np_03, np_04\n",
    "# Check the shapes and data for each of them.\n",
    "print(np_01.shape)\n",
    "print(np_02.shape)\n",
    "print(np_03.shape)\n",
    "print(np_04.shape)\n",
    "\n",
    "# Create numpy array (28, 28) that is filled with random value 0~255\n",
    "# and store it to mnist_sample.\n",
    "e = np.random.randint(255, size = (28, 28))\n",
    "print(e)"
   ]
  },
  {
   "cell_type": "markdown",
   "metadata": {},
   "source": [
    "## 2. Array Indexing\n",
    "\n",
    "Methods to access data"
   ]
  },
  {
   "cell_type": "code",
   "execution_count": 27,
   "metadata": {},
   "outputs": [],
   "source": [
    "# Create array - shape (3, 4)\n",
    "a = np.array([[1, 2, 3, 4], [5, 6, 7, 8], [9, 10, 11, 12]])"
   ]
  },
  {
   "cell_type": "markdown",
   "metadata": {},
   "source": [
    "#### _1. Integer array Indexing"
   ]
  },
  {
   "cell_type": "code",
   "execution_count": 28,
   "metadata": {},
   "outputs": [
    {
     "name": "stdout",
     "output_type": "stream",
     "text": [
      "[[ 1  2  3  4]\n",
      " [ 9 10 11 12]]\n",
      "[1 6 9]\n",
      "[1, 6, 9]\n",
      "[2 2]\n",
      "[2, 2]\n"
     ]
    }
   ],
   "source": [
    "# Integer array indexing\n",
    "print(a[[0, 2]])\n",
    "\n",
    "# \"[1 6 9]\"\n",
    "print(a[[0, 1, 2], [0, 1, 0]])          \n",
    "print([a[0, 0], a[1, 1], a[2, 0]])\n",
    "\n",
    "# Can use same data in same place\n",
    "# \"[2 2]\"\n",
    "print(a[[0, 0], [1, 1]])\n",
    "print([a[0, 1], a[0, 1]])"
   ]
  },
  {
   "cell_type": "markdown",
   "metadata": {},
   "source": [
    "#### _2. Slicing"
   ]
  },
  {
   "cell_type": "code",
   "execution_count": 30,
   "metadata": {},
   "outputs": [
    {
     "name": "stdout",
     "output_type": "stream",
     "text": [
      "[[5 6 7 8]] (1, 4)\n",
      "[[ 2]\n",
      " [ 6]\n",
      " [10]] (3, 1)\n"
     ]
    }
   ],
   "source": [
    "# Column\n",
    "row_r2 = a[1:2, :]           # Rank 2\n",
    "print(row_r2, row_r2.shape)  # \"[[5 6 7 8]] (1, 4)\"\n",
    "\n",
    "# Row\n",
    "col_r2 = a[:, 1:2]\n",
    "print(col_r2, col_r2.shape)  # \"[[ 2]\n",
    "                             #   [ 6]\n",
    "                             #   [10]] (3, 1)\""
   ]
  },
  {
   "cell_type": "markdown",
   "metadata": {},
   "source": [
    "#### _3. Using Integer array Indexing and Slicing together"
   ]
  },
  {
   "cell_type": "code",
   "execution_count": 31,
   "metadata": {},
   "outputs": [
    {
     "name": "stdout",
     "output_type": "stream",
     "text": [
      "[5 6 7 8] (4,)\n",
      "[ 2  6 10] (3,)\n"
     ]
    }
   ],
   "source": [
    "# Column\n",
    "row_r1 = a[1, :]             # Rank 1\n",
    "print(row_r1, row_r1.shape)  # \"[5 6 7 8] (4,)\"\n",
    "\n",
    "# Row\n",
    "col_r1 = a[:, 1]\n",
    "print(col_r1, col_r1.shape)  # \"[ 2  6 10] (3,)\""
   ]
  },
  {
   "cell_type": "markdown",
   "metadata": {},
   "source": [
    "#### _4. Boolean array Indexing"
   ]
  },
  {
   "cell_type": "code",
   "execution_count": 32,
   "metadata": {},
   "outputs": [
    {
     "name": "stdout",
     "output_type": "stream",
     "text": [
      "[[False False]\n",
      " [ True  True]\n",
      " [ True  True]]\n",
      "[3 4 5 6]\n",
      "[3 4 5 6]\n"
     ]
    }
   ],
   "source": [
    "a = np.array([[1, 2], [3, 4], [5, 6]])\n",
    "bool_idx = (a > 2)\n",
    "print(bool_idx)\n",
    "print(a[bool_idx])  # \"[3 4 5 6]\"\n",
    "print(a[a > 2])     # \"[3 4 5 6]\""
   ]
  },
  {
   "cell_type": "markdown",
   "metadata": {},
   "source": [
    "#### If we fix the peice of the array, then the origin is fixed, too."
   ]
  },
  {
   "cell_type": "code",
   "execution_count": 33,
   "metadata": {},
   "outputs": [
    {
     "name": "stdout",
     "output_type": "stream",
     "text": [
      "77\n"
     ]
    }
   ],
   "source": [
    "# array slice\n",
    "# shape (2, 2) - 2x2 Matrix\n",
    "b = a[:2, 1:3]\n",
    "b[0, 0] = 77     # b[0, 0] = a[0, 1]\n",
    "\n",
    "print(a[0, 1])   # \"77\""
   ]
  },
  {
   "cell_type": "code",
   "execution_count": 34,
   "metadata": {},
   "outputs": [
    {
     "name": "stdout",
     "output_type": "stream",
     "text": [
      "[[ 1  2  3]\n",
      " [ 4  5  6]\n",
      " [ 7  8  9]\n",
      " [10 11 12]]\n",
      "[ 1  6  7 11]\n",
      "[[11  2  3]\n",
      " [ 4  5 16]\n",
      " [17  8  9]\n",
      " [10 21 12]]\n"
     ]
    }
   ],
   "source": [
    "# Create array - shape (4, 3)\n",
    "a = np.array([[1, 2, 3], [4, 5, 6], [7, 8, 9], [10, 11, 12]])\n",
    "print(a)\n",
    "\n",
    "# Method of selecting elemnets\n",
    "b = np.arange(4) # [0, 1, 2, 3]\n",
    "c = np.array([0, 2, 0, 1])\n",
    "print(a[b, c])  # \"[ 1  6  7 11]\"\n",
    "\n",
    "# Change all of the selected elements\n",
    "a[b, c] += 10\n",
    "print(a)"
   ]
  },
  {
   "cell_type": "markdown",
   "metadata": {},
   "source": [
    "### Practicing"
   ]
  },
  {
   "cell_type": "code",
   "execution_count": 35,
   "metadata": {},
   "outputs": [
    {
     "name": "stdout",
     "output_type": "stream",
     "text": [
      "[[ 1  2  3]\n",
      " [ 4  5  6]\n",
      " [ 7  8  9]\n",
      " [10 11 12]]\n",
      "(4, 3)\n",
      "[7 8 9]\n",
      "[ 2  5  8 11]\n",
      "[ 2  4  8 12]\n",
      "[[ 1  4  3]\n",
      " [ 8  5  6]\n",
      " [ 7 16  9]\n",
      " [10 11 24]]\n"
     ]
    },
    {
     "data": {
      "text/plain": [
       "array([ 3,  6,  9, 24])"
      ]
     },
     "execution_count": 35,
     "metadata": {},
     "output_type": "execute_result"
    }
   ],
   "source": [
    "li = [1, 2, 3, 4, 5, 6, 7, 8, 9, 10, 11, 12]\n",
    "\n",
    "# Create np_arr that has shape below from li.\n",
    "# [[  1  2  3]\n",
    "#  [  4  5  6]\n",
    "#  [  7  8  9]\n",
    "#  [ 10 11 12]]\n",
    "np_arr = np.array(li).reshape(4, 3)\n",
    "print(np_arr)\n",
    "\n",
    "# Check the shape of np_arr.\n",
    "print(np_arr.shape)\n",
    "\n",
    "# By using Ineteger array Indexing, print out the np_arr as following shape below.\n",
    "# [7 8 9] - rank 1, shape (3, )\n",
    "print(np_arr[2, :])\n",
    "\n",
    "# By using Integer array Indexing, print out the np_arr as following shape below.\n",
    "# [2 5 8 11] - rank 1, shape (4, )\n",
    "print(np_arr[:, 1])\n",
    "\n",
    "# Check the result after guessing the output of the code below.\n",
    "print(np_arr[[0, 1, 2, 3], [1, 0, 1, 2]])\n",
    "\n",
    "# Multiply 2 for all of the elements which is selected above the code.\n",
    "np_arr[[0, 1, 2, 3], [1, 0, 1, 2]] *= 2\n",
    "\n",
    "# Let's print out np_arr\n",
    "print(np_arr)\n",
    "\n",
    "# Find elements which are multiples of 3. (Method: x % 3 == 0)\n",
    "np_arr[np_arr % 3 == 0]"
   ]
  },
  {
   "cell_type": "code",
   "execution_count": 32,
   "metadata": {},
   "outputs": [
    {
     "name": "stdout",
     "output_type": "stream",
     "text": [
      "[[1 2 3 4]]\n",
      "(1, 4)\n",
      "[[1]\n",
      " [2]\n",
      " [3]\n",
      " [4]]\n"
     ]
    }
   ],
   "source": [
    "x = np.array([1, 2, 3, 4], ndmin=2) # ndmin 없이 해보기\n",
    "print(x)       # [[1 2 3 4]]\n",
    "print(x.shape) # (1, 4)\n",
    "\n",
    "# 전치 행렬\n",
    "print(x.T)    # [[1], [2], [3], [4]]"
   ]
  },
  {
   "cell_type": "markdown",
   "metadata": {},
   "source": [
    "## 3. Data Conversion"
   ]
  },
  {
   "cell_type": "code",
   "execution_count": 37,
   "metadata": {},
   "outputs": [
    {
     "name": "stdout",
     "output_type": "stream",
     "text": [
      "<class 'numpy.ndarray'>\n",
      "[1, 2]\n",
      "<class 'list'>\n"
     ]
    }
   ],
   "source": [
    "# Numpy Array\n",
    "x = np.array([1, 2])\n",
    "print(type(x))             # <class ‘numpy.ndarray’>\n",
    "\n",
    "# numpy.ndarray to list\n",
    "y = x.tolist()\n",
    "print(y)            \t   # [1, 2]\n",
    "print(type(y))             # <class ‘list’>"
   ]
  },
  {
   "cell_type": "code",
   "execution_count": 38,
   "metadata": {},
   "outputs": [
    {
     "name": "stdout",
     "output_type": "stream",
     "text": [
      "int32\n",
      "float64\n",
      "float64\n"
     ]
    }
   ],
   "source": [
    "x = np.array([1, 2])\n",
    "print(x.dtype)             # \"int64\"\n",
    "\n",
    "x = np.array([1.0, 2.0])\n",
    "print(x.dtype)             # \"float64\"\n",
    "\n",
    "x = np.array([1, 2], dtype=np.float64)   # 강제로 데이터 형식 지정\n",
    "print(x.dtype)                           # \"float64\""
   ]
  },
  {
   "cell_type": "markdown",
   "metadata": {},
   "source": [
    "## 4. Array Math"
   ]
  },
  {
   "cell_type": "code",
   "execution_count": 39,
   "metadata": {},
   "outputs": [
    {
     "name": "stdout",
     "output_type": "stream",
     "text": [
      "[[ 6.  8.]\n",
      " [10. 12.]]\n",
      "[[ 6.  8.]\n",
      " [10. 12.]]\n",
      "[[-4. -4.]\n",
      " [-4. -4.]]\n",
      "[[-4. -4.]\n",
      " [-4. -4.]]\n",
      "[[ 5. 12.]\n",
      " [21. 32.]]\n",
      "[[ 5. 12.]\n",
      " [21. 32.]]\n",
      "[[0.2        0.33333333]\n",
      " [0.42857143 0.5       ]]\n",
      "[[0.2        0.33333333]\n",
      " [0.42857143 0.5       ]]\n",
      "[[1.         1.41421356]\n",
      " [1.73205081 2.        ]]\n"
     ]
    }
   ],
   "source": [
    "x = np.array([[1, 2], [3, 4]], dtype=np.float64)\n",
    "y = np.array([[5, 6], [7, 8]], dtype=np.float64)\n",
    "\n",
    "# array addition.\n",
    "print(x + y)\n",
    "print(np.add(x, y))\n",
    "\n",
    "# array subtraction.\n",
    "print(x - y)\n",
    "print(np.subtract(x, y))\n",
    "\n",
    "# array multiplication.\n",
    "print(x * y)\n",
    "print(np.multiply(x, y))\n",
    "\n",
    "# array division.\n",
    "print(x / y)\n",
    "print(np.divide(x, y))\n",
    "\n",
    "# square root of array\n",
    "print(np.sqrt(x))"
   ]
  },
  {
   "cell_type": "code",
   "execution_count": 5,
   "metadata": {},
   "outputs": [
    {
     "name": "stdout",
     "output_type": "stream",
     "text": [
      "219\n",
      "219\n",
      "219\n",
      "(1, 1): 29\n",
      "(1, 2): 67\n",
      "[29 67]\n",
      "[29 67]\n",
      "(1, 1): 19\n",
      "(1, 2): 22\n",
      "(2, 1): 43\n",
      "(2, 2): 50\n",
      "[[19 22]\n",
      " [43 50]]\n",
      "[[19 22]\n",
      " [43 50]]\n"
     ]
    }
   ],
   "source": [
    "# Multiplication of Matrix\n",
    "\n",
    "x = np.array([[1, 2], [3, 4]])\n",
    "y = np.array([[5, 6], [7, 8]])\n",
    "\n",
    "v = np.array([9, 10])\n",
    "w = np.array([11, 12])\n",
    "\n",
    "# (2, ) * (2, ), 219\n",
    "print(9 * 11 + 10 * 12)\n",
    "print(v.dot(w))\n",
    "print(np.dot(v, w))\n",
    "\n",
    "# (2, 2) * (2, ), rank 2 array\n",
    "print(\"(1, 1): %d\" % (1 * 9 + 2 * 10))\n",
    "print(\"(1, 2): %d\" % (3 * 9 + 4 * 10))\n",
    "print(x.dot(v))\n",
    "print(np.dot(x, v))\n",
    "\n",
    "# (2, 2) * (2, 2), rank 2 array\n",
    "# [[19 22]\n",
    "#  [43 50]]\n",
    "print(\"(1, 1): %d\" % (1 * 5 + 2 * 7))\n",
    "print(\"(1, 2): %d\" % (1 * 6 + 2 * 8))\n",
    "print(\"(2, 1): %d\" % (3 * 5 + 4 * 7))\n",
    "print(\"(2, 2): %d\" % (3 * 6 + 4 * 8))\n",
    "print(x.dot(y))\n",
    "print(np.dot(x, y))"
   ]
  },
  {
   "cell_type": "code",
   "execution_count": 6,
   "metadata": {},
   "outputs": [
    {
     "name": "stdout",
     "output_type": "stream",
     "text": [
      "10\n",
      "[4 6]\n",
      "[3 7]\n"
     ]
    }
   ],
   "source": [
    "x = np.array([[1, 2], \n",
    "              [3, 4]])\n",
    "\n",
    "# sum\n",
    "print(np.sum(x))          # \"10\"\n",
    "\n",
    "# sum of row\n",
    "print(np.sum(x, axis=0))  # \"[4 6]\"\n",
    "\n",
    "# sum of column\n",
    "print(np.sum(x, axis=1))  # \"[3 7]\""
   ]
  },
  {
   "cell_type": "code",
   "execution_count": 9,
   "metadata": {},
   "outputs": [
    {
     "name": "stdout",
     "output_type": "stream",
     "text": [
      "[[1 2]\n",
      " [3 4]]\n",
      "[[1 3]\n",
      " [2 4]]\n",
      "[[1 2 3 4]]\n",
      "(1, 4)\n",
      "[[1]\n",
      " [2]\n",
      " [3]\n",
      " [4]]\n",
      "[1 2 3]\n",
      "[1 2 3]\n"
     ]
    }
   ],
   "source": [
    "x = np.array([[1, 2], [3, 4]])\n",
    "print(x)\n",
    "\n",
    "# Transpose matrix\n",
    "print(x.T)\n",
    "\n",
    "x = np.array([1, 2, 3, 4], ndmin=2) # without ndmin\n",
    "print(x)   \t    # \"[[1 2 3 4]]\"\n",
    "print(x.shape)  # (1, 4)\n",
    "\n",
    "# Transpose matrix\n",
    "print(x.T)\n",
    "            \n",
    "# No difference in rank 1 array\n",
    "v = np.array([1,2,3])\n",
    "print(v)    # \"[1 2 3]\"\n",
    "print(v.T)  # \"[1 2 3]\""
   ]
  },
  {
   "cell_type": "markdown",
   "metadata": {},
   "source": [
    "### Practicing"
   ]
  },
  {
   "cell_type": "code",
   "execution_count": 10,
   "metadata": {
    "scrolled": true
   },
   "outputs": [
    {
     "name": "stdout",
     "output_type": "stream",
     "text": [
      "[[ 6 13  9]\n",
      " [ 1  1  9]\n",
      " [14  4 12]\n",
      " [14  9  1]]\n",
      "[35 27 31]\n",
      "[28 11 30 24]\n",
      "[[ 6  1 14 14]\n",
      " [13  1  4  9]\n",
      " [ 9  9 12  1]]\n"
     ]
    }
   ],
   "source": [
    "# Put numpy array (4, 3) filled with random nummbers to rand.\n",
    "rand = np.random.randint(16, size=(4, 3))\n",
    "\n",
    "# Print rand.\n",
    "print(rand)\n",
    "\n",
    "# sum rows of rand .\n",
    "print(rand.sum(0))\n",
    "\n",
    "# sum columns of rand.\n",
    "print(rand.sum(1))\n",
    "\n",
    "# Print out the transepose of the rand.\n",
    "print(rand.T)"
   ]
  },
  {
   "cell_type": "markdown",
   "metadata": {},
   "source": [
    "## 5. Broadcasting"
   ]
  },
  {
   "cell_type": "code",
   "execution_count": 11,
   "metadata": {},
   "outputs": [
    {
     "name": "stdout",
     "output_type": "stream",
     "text": [
      "[[ 2  2  4]\n",
      " [ 5  5  7]\n",
      " [ 8  8 10]\n",
      " [11 11 13]]\n",
      "[[ 2  2  4]\n",
      " [ 5  5  7]\n",
      " [ 8  8 10]\n",
      " [11 11 13]]\n"
     ]
    }
   ],
   "source": [
    "x = np.array([[1, 2, 3], [4, 5, 6], [7, 8, 9], [10, 11, 12]])\n",
    "v = np.array([1, 0, 1])\n",
    "\n",
    "# Create array of zero same shape as x.\n",
    "y = np.empty_like(x)\n",
    "\n",
    "# Because column of x and shape of v is same, let's add v for each column.\n",
    "for i in range(4):\n",
    "    y[i, :] = x[i, :] + v\n",
    "\n",
    "# Check the y.\n",
    "print(y)\n",
    "0\n",
    "# Check x + v\n",
    "print(x + v)"
   ]
  },
  {
   "cell_type": "code",
   "execution_count": 12,
   "metadata": {},
   "outputs": [
    {
     "name": "stdout",
     "output_type": "stream",
     "text": [
      "[[1 0 1]\n",
      " [1 0 1]\n",
      " [1 0 1]\n",
      " [1 0 1]]\n",
      "[[ 2  2  4]\n",
      " [ 5  5  7]\n",
      " [ 8  8 10]\n",
      " [11 11 13]]\n"
     ]
    }
   ],
   "source": [
    "x = np.array([[1, 2, 3], [4, 5, 6], [7, 8, 9], [10, 11, 12]])\n",
    "v = np.array([1, 0, 1])\n",
    "\n",
    "# Stack some v and make it to larger matrix..\n",
    "vv = np.tile(v, (4, 1))\n",
    "print(vv)\n",
    "\n",
    "y = x + v\n",
    "print(y)"
   ]
  },
  {
   "cell_type": "code",
   "execution_count": 13,
   "metadata": {},
   "outputs": [
    {
     "name": "stdout",
     "output_type": "stream",
     "text": [
      "[[ 2  2  4]\n",
      " [ 5  5  7]\n",
      " [ 8  8 10]\n",
      " [11 11 13]]\n"
     ]
    }
   ],
   "source": [
    "x = np.array([[1, 2, 3], [4, 5, 6], [7, 8, 9], [10, 11, 12]])\n",
    "v = np.array([1, 0, 1])\n",
    "y = x + v  # broadcasting, add v for each column of x.\n",
    "print(y) "
   ]
  },
  {
   "cell_type": "code",
   "execution_count": 14,
   "metadata": {},
   "outputs": [
    {
     "name": "stdout",
     "output_type": "stream",
     "text": [
      "[[ 2  4  6]\n",
      " [ 8 10 12]]\n"
     ]
    }
   ],
   "source": [
    "x = np.array([[1, 2, 3], [4, 5, 6]])\n",
    "print(x * 2)"
   ]
  },
  {
   "cell_type": "code",
   "execution_count": 15,
   "metadata": {},
   "outputs": [
    {
     "name": "stdout",
     "output_type": "stream",
     "text": [
      "[[2 4 6]\n",
      " [5 7 9]]\n"
     ]
    }
   ],
   "source": [
    "x = np.array([[1, 2, 3], [4, 5, 6]])\n",
    "v = np.array([1, 2, 3])  # shape (3,)\n",
    "print(x + v)"
   ]
  },
  {
   "cell_type": "code",
   "execution_count": 16,
   "metadata": {},
   "outputs": [
    {
     "name": "stdout",
     "output_type": "stream",
     "text": [
      "[1 2 3]\n",
      "[[1]\n",
      " [2]\n",
      " [3]]\n",
      "[4 5]\n"
     ]
    }
   ],
   "source": [
    "v = np.array([1, 2, 3])  # shape (3,)\n",
    "w = np.array([4, 5])     # shape (2,)\n",
    "print(v)\n",
    "print(np.reshape(v, (3, 1)))\n",
    "print(w)"
   ]
  },
  {
   "cell_type": "code",
   "execution_count": 17,
   "metadata": {},
   "outputs": [
    {
     "name": "stdout",
     "output_type": "stream",
     "text": [
      "[[ 4  5]\n",
      " [ 8 10]\n",
      " [12 15]]\n"
     ]
    }
   ],
   "source": [
    "v = np.array([1, 2, 3])  # shape (3,)\n",
    "w = np.array([4, 5])     # shape (2,)\n",
    "print(np.reshape(v, (3, 1)) * w)"
   ]
  },
  {
   "cell_type": "code",
   "execution_count": 18,
   "metadata": {},
   "outputs": [
    {
     "name": "stdout",
     "output_type": "stream",
     "text": [
      "[[1 4]\n",
      " [2 5]\n",
      " [3 6]]\n",
      "[4 5]\n",
      "[[ 5  9]\n",
      " [ 6 10]\n",
      " [ 7 11]]\n",
      "[[ 5  6  7]\n",
      " [ 9 10 11]]\n"
     ]
    }
   ],
   "source": [
    "x = np.array([[1, 2, 3], [4, 5, 6]])\n",
    "w = np.array([4, 5])     # shape (2,)\n",
    "print(x.T)\n",
    "print(w)\n",
    "print(x.T + w)\n",
    "print((x.T + w).T)"
   ]
  },
  {
   "cell_type": "code",
   "execution_count": 19,
   "metadata": {},
   "outputs": [
    {
     "name": "stdout",
     "output_type": "stream",
     "text": [
      "[[4]\n",
      " [5]]\n",
      "[[ 5  6  7]\n",
      " [ 9 10 11]]\n"
     ]
    }
   ],
   "source": [
    "x = np.array([[1, 2, 3], [4, 5, 6]])\n",
    "w = np.array([4, 5])     # shape (2,)\n",
    "print(np.reshape(w, (2, 1)))\n",
    "print(x + np.reshape(w, (2, 1)))"
   ]
  },
  {
   "cell_type": "markdown",
   "metadata": {},
   "source": [
    "### shuffle"
   ]
  },
  {
   "cell_type": "code",
   "execution_count": 20,
   "metadata": {},
   "outputs": [
    {
     "name": "stdout",
     "output_type": "stream",
     "text": [
      "[(0., 380., 3.61, 3.) (1., 660., 3.67, 3.) (1., 800., 4.  , 1.)\n",
      " (1., 640., 3.19, 4.) (0., 520., 2.93, 4.) (1., 760., 3.  , 2.)\n",
      " (1., 560., 2.98, 1.) (0., 400., 3.08, 2.) (1., 540., 3.39, 3.)\n",
      " (0., 700., 3.92, 2.)]\n",
      "[(0., 580., 2.93, 2.) (0., 500., 2.81, 3.) (1., 540., 3.55, 4.)\n",
      " (1., 680., 2.42, 1.) (0., 600., 2.82, 4.) (0., 600., 3.89, 3.)\n",
      " (0., 460., 3.15, 4.) (0., 560., 3.33, 4.) (0., 560., 3.04, 3.)\n",
      " (0., 680., 3.08, 4.)]\n"
     ]
    }
   ],
   "source": [
    "data = np.genfromtxt(\"./graduate_apply.csv\", delimiter=\",\", names=True)\n",
    "\n",
    "print(data[0:10])\n",
    "\n",
    "# Shuffle\n",
    "np.random.shuffle(data)\n",
    "\n",
    "print(data[0:10])"
   ]
  },
  {
   "cell_type": "markdown",
   "metadata": {},
   "source": [
    "### Practicing"
   ]
  },
  {
   "cell_type": "code",
   "execution_count": 23,
   "metadata": {},
   "outputs": [
    {
     "name": "stdout",
     "output_type": "stream",
     "text": [
      "400\n",
      "300\n",
      "100\n",
      "[(0., 380., 3.61, 3.) (1., 660., 3.67, 3.) (1., 800., 4.  , 1.)\n",
      " (1., 640., 3.19, 4.) (0., 520., 2.93, 4.) (1., 760., 3.  , 2.)\n",
      " (1., 560., 2.98, 1.) (0., 400., 3.08, 2.) (1., 540., 3.39, 3.)\n",
      " (0., 700., 3.92, 2.) (0., 800., 4.  , 4.) (0., 440., 3.22, 1.)\n",
      " (1., 760., 4.  , 1.) (0., 700., 3.08, 2.) (1., 700., 4.  , 1.)\n",
      " (0., 480., 3.44, 3.) (0., 780., 3.87, 4.) (0., 360., 2.56, 3.)\n",
      " (0., 800., 3.75, 2.) (1., 540., 3.81, 1.) (0., 500., 3.17, 3.)\n",
      " (1., 660., 3.63, 2.) (0., 600., 2.82, 4.) (0., 680., 3.19, 4.)\n",
      " (1., 760., 3.35, 2.) (1., 800., 3.66, 1.) (1., 620., 3.61, 1.)\n",
      " (1., 520., 3.74, 4.) (1., 780., 3.22, 2.) (0., 520., 3.29, 1.)\n",
      " (0., 540., 3.78, 4.) (0., 760., 3.35, 3.) (0., 600., 3.4 , 3.)\n",
      " (1., 800., 4.  , 3.) (0., 360., 3.14, 1.) (0., 400., 3.05, 2.)\n",
      " (0., 580., 3.25, 1.) (0., 520., 2.9 , 3.) (1., 500., 3.13, 2.)\n",
      " (1., 520., 2.68, 3.) (0., 560., 2.42, 2.) (1., 580., 3.32, 2.)\n",
      " (1., 600., 3.15, 2.) (0., 500., 3.31, 3.) (0., 700., 2.94, 2.)\n",
      " (1., 460., 3.45, 3.) (1., 580., 3.46, 2.) (0., 500., 2.97, 4.)\n",
      " (0., 440., 2.48, 4.) (0., 400., 3.35, 3.) (0., 640., 3.86, 3.)\n",
      " (0., 440., 3.13, 4.) (0., 740., 3.37, 4.) (1., 680., 3.27, 2.)\n",
      " (0., 660., 3.34, 3.) (1., 740., 4.  , 3.) (0., 560., 3.19, 3.)\n",
      " (0., 380., 2.94, 3.) (0., 400., 3.65, 2.) (0., 600., 2.82, 4.)\n",
      " (1., 620., 3.18, 2.) (0., 560., 3.32, 4.) (0., 640., 3.67, 3.)\n",
      " (1., 680., 3.85, 3.) (0., 580., 4.  , 3.) (0., 600., 3.59, 2.)\n",
      " (0., 740., 3.62, 4.) (0., 620., 3.3 , 1.) (0., 580., 3.69, 1.)\n",
      " (0., 800., 3.73, 1.) (0., 640., 4.  , 3.) (0., 300., 2.92, 4.)\n",
      " (0., 480., 3.39, 4.) (0., 580., 4.  , 2.) (0., 720., 3.45, 4.)\n",
      " (0., 720., 4.  , 3.) (0., 560., 3.36, 3.) (1., 800., 4.  , 3.)\n",
      " (0., 540., 3.12, 1.) (1., 620., 4.  , 1.) (0., 700., 2.9 , 4.)\n",
      " (0., 620., 3.07, 2.) (0., 500., 2.71, 2.) (0., 380., 2.91, 4.)\n",
      " (1., 500., 3.6 , 3.) (0., 520., 2.98, 2.) (0., 600., 3.32, 2.)\n",
      " (0., 600., 3.48, 2.) (0., 700., 3.28, 1.) (1., 660., 4.  , 2.)\n",
      " (0., 700., 3.83, 2.) (1., 720., 3.64, 1.) (0., 800., 3.9 , 2.)\n",
      " (0., 580., 2.93, 2.) (1., 660., 3.44, 2.) (0., 660., 3.33, 2.)\n",
      " (0., 640., 3.52, 4.) (0., 480., 3.57, 2.) (0., 700., 2.88, 2.)\n",
      " (0., 400., 3.31, 3.) (0., 340., 3.15, 3.) (0., 580., 3.57, 3.)\n",
      " (0., 380., 3.33, 4.) (0., 540., 3.94, 3.) (1., 660., 3.95, 2.)\n",
      " (1., 740., 2.97, 2.) (1., 700., 3.56, 1.) (0., 480., 3.13, 2.)\n",
      " (0., 400., 2.93, 3.) (0., 480., 3.45, 2.) (0., 680., 3.08, 4.)\n",
      " (0., 420., 3.41, 4.) (0., 360., 3.  , 3.) (0., 600., 3.22, 1.)\n",
      " (0., 720., 3.84, 3.) (0., 620., 3.99, 3.) (1., 440., 3.45, 2.)\n",
      " (0., 700., 3.72, 2.) (1., 800., 3.7 , 1.) (0., 340., 2.92, 3.)\n",
      " (1., 520., 3.74, 2.) (1., 480., 2.67, 2.) (0., 520., 2.85, 3.)\n",
      " (0., 500., 2.98, 3.) (0., 720., 3.88, 3.) (0., 540., 3.38, 4.)\n",
      " (1., 600., 3.54, 1.) (0., 740., 3.74, 4.) (0., 540., 3.19, 2.)\n",
      " (0., 460., 3.15, 4.) (1., 620., 3.17, 2.) (0., 640., 2.79, 2.)\n",
      " (0., 580., 3.4 , 2.) (0., 500., 3.08, 3.) (0., 560., 2.95, 2.)\n",
      " (0., 500., 3.57, 3.) (0., 560., 3.33, 4.) (0., 700., 4.  , 3.)\n",
      " (0., 620., 3.4 , 2.) (1., 600., 3.58, 1.) (0., 640., 3.93, 2.)\n",
      " (1., 700., 3.52, 4.) (0., 620., 3.94, 4.) (0., 580., 3.4 , 3.)\n",
      " (0., 580., 3.4 , 4.) (0., 380., 3.43, 3.) (0., 480., 3.4 , 2.)\n",
      " (0., 560., 2.71, 3.) (1., 480., 2.91, 1.) (0., 740., 3.31, 1.)\n",
      " (1., 800., 3.74, 1.) (0., 400., 3.38, 2.) (1., 640., 3.94, 2.)\n",
      " (0., 580., 3.46, 3.) (0., 620., 3.69, 3.) (1., 580., 2.86, 4.)\n",
      " (0., 560., 2.52, 2.) (1., 480., 3.58, 1.) (0., 660., 3.49, 2.)\n",
      " (0., 700., 3.82, 3.) (0., 600., 3.13, 2.) (0., 640., 3.5 , 2.)\n",
      " (1., 700., 3.56, 2.) (0., 520., 2.73, 2.) (0., 580., 3.3 , 2.)\n",
      " (0., 700., 4.  , 1.) (0., 440., 3.24, 4.) (0., 720., 3.77, 3.)\n",
      " (0., 500., 4.  , 3.) (0., 600., 3.62, 3.) (0., 400., 3.51, 3.)\n",
      " (0., 540., 2.81, 3.) (0., 680., 3.48, 3.) (1., 800., 3.43, 2.)\n",
      " (0., 500., 3.53, 4.) (1., 620., 3.37, 2.) (0., 520., 2.62, 2.)\n",
      " (1., 620., 3.23, 3.) (0., 620., 3.33, 3.) (0., 300., 3.01, 3.)\n",
      " (0., 620., 3.78, 3.) (0., 500., 3.88, 4.) (0., 700., 4.  , 2.)\n",
      " (1., 540., 3.84, 2.) (0., 500., 2.79, 4.) (0., 800., 3.6 , 2.)\n",
      " (0., 560., 3.61, 3.) (0., 580., 2.88, 2.) (0., 560., 3.07, 2.)\n",
      " (0., 500., 3.35, 2.) (1., 640., 2.94, 2.) (0., 800., 3.54, 3.)\n",
      " (0., 640., 3.76, 3.) (0., 380., 3.59, 4.) (1., 600., 3.47, 2.)\n",
      " (0., 560., 3.59, 2.) (0., 660., 3.07, 3.) (1., 400., 3.23, 4.)\n",
      " (0., 600., 3.63, 3.) (0., 580., 3.77, 4.) (0., 800., 3.31, 3.)\n",
      " (1., 580., 3.2 , 2.) (1., 700., 4.  , 1.) (0., 420., 3.92, 4.)\n",
      " (1., 600., 3.89, 1.) (1., 780., 3.8 , 3.) (0., 740., 3.54, 1.)\n",
      " (1., 640., 3.63, 1.) (0., 540., 3.16, 3.) (0., 580., 3.5 , 2.)\n",
      " (0., 740., 3.34, 4.) (0., 580., 3.02, 2.) (0., 460., 2.87, 2.)\n",
      " (0., 640., 3.38, 3.) (1., 600., 3.56, 2.) (1., 660., 2.91, 3.)\n",
      " (0., 340., 2.9 , 1.) (1., 460., 3.64, 1.) (0., 460., 2.98, 1.)\n",
      " (1., 560., 3.59, 2.) (0., 540., 3.28, 3.) (0., 680., 3.99, 3.)\n",
      " (1., 480., 3.02, 1.) (0., 800., 3.47, 3.) (0., 800., 2.9 , 2.)\n",
      " (1., 720., 3.5 , 3.) (0., 620., 3.58, 2.) (0., 540., 3.02, 4.)\n",
      " (0., 480., 3.43, 2.) (1., 720., 3.42, 2.) (0., 580., 3.29, 4.)\n",
      " (0., 600., 3.28, 3.) (0., 380., 3.38, 2.) (0., 420., 2.67, 3.)\n",
      " (1., 800., 3.53, 1.) (0., 620., 3.05, 2.) (1., 660., 3.49, 2.)\n",
      " (0., 480., 4.  , 2.) (0., 500., 2.86, 4.) (0., 700., 3.45, 3.)\n",
      " (0., 440., 2.76, 2.) (1., 520., 3.81, 1.) (1., 680., 2.96, 3.)\n",
      " (0., 620., 3.22, 2.) (0., 540., 3.04, 1.) (0., 800., 3.91, 3.)\n",
      " (0., 680., 3.34, 2.) (0., 440., 3.17, 2.) (0., 680., 3.64, 3.)\n",
      " (0., 640., 3.73, 3.) (0., 660., 3.31, 4.) (0., 620., 3.21, 4.)\n",
      " (1., 520., 4.  , 2.) (1., 540., 3.55, 4.) (1., 740., 3.52, 4.)\n",
      " (0., 640., 3.35, 3.) (1., 520., 3.3 , 2.) (1., 620., 3.95, 3.)\n",
      " (0., 520., 3.51, 2.) (0., 640., 3.81, 2.) (0., 680., 3.11, 2.)\n",
      " (0., 440., 3.15, 2.) (1., 520., 3.19, 3.) (1., 620., 3.95, 3.)\n",
      " (1., 520., 3.9 , 3.) (0., 380., 3.34, 3.) (0., 560., 3.24, 4.)\n",
      " (1., 600., 3.64, 3.) (1., 680., 3.46, 2.) (0., 500., 2.81, 3.)\n",
      " (1., 640., 3.95, 2.) (0., 540., 3.33, 3.) (1., 680., 3.67, 2.)\n",
      " (0., 660., 3.32, 1.) (0., 520., 3.12, 2.) (1., 600., 2.98, 2.)\n",
      " (0., 460., 3.77, 3.) (1., 580., 3.58, 1.) (1., 680., 3.  , 4.)\n",
      " (1., 660., 3.14, 2.) (0., 660., 3.94, 2.) (0., 360., 3.27, 3.)\n",
      " (0., 660., 3.45, 4.) (0., 520., 3.1 , 4.) (1., 440., 3.39, 2.)\n",
      " (0., 600., 3.31, 4.) (1., 800., 3.22, 1.) (1., 660., 3.7 , 4.)\n",
      " (0., 800., 3.15, 4.) (0., 420., 2.26, 4.) (1., 620., 3.45, 2.)\n",
      " (0., 800., 2.78, 2.) (0., 680., 3.7 , 2.) (0., 800., 3.97, 1.)\n",
      " (0., 480., 2.55, 1.) (0., 520., 3.25, 3.) (0., 560., 3.16, 1.)\n",
      " (0., 460., 3.07, 2.) (0., 540., 3.5 , 2.) (0., 720., 3.4 , 3.)]\n",
      "[(0., 560., 3.24, 4.) (0., 380., 3.34, 3.) (0., 800., 3.15, 4.)\n",
      " (1., 480., 3.02, 1.) (1., 780., 3.22, 2.) (0., 680., 3.11, 2.)\n",
      " (0., 640., 3.93, 2.) (1., 660., 3.44, 2.) (0., 400., 3.05, 2.)\n",
      " (1., 480., 2.67, 2.) (0., 540., 3.16, 3.) (1., 600., 3.15, 2.)\n",
      " (0., 580., 3.4 , 2.) (0., 560., 3.16, 1.) (0., 460., 2.98, 1.)\n",
      " (0., 600., 3.32, 2.) (0., 580., 3.46, 3.) (1., 640., 3.94, 2.)\n",
      " (0., 440., 2.76, 2.) (0., 380., 3.33, 4.) (1., 540., 3.84, 2.)\n",
      " (0., 300., 2.92, 4.) (1., 540., 3.81, 1.) (0., 620., 3.21, 4.)\n",
      " (0., 640., 3.86, 3.) (0., 520., 3.25, 3.) (0., 620., 3.05, 2.)\n",
      " (0., 380., 3.61, 3.) (1., 620., 3.95, 3.) (0., 560., 3.59, 2.)\n",
      " (1., 800., 4.  , 3.) (0., 520., 2.9 , 3.) (1., 520., 2.68, 3.)\n",
      " (1., 640., 3.95, 2.) (0., 600., 2.82, 4.) (0., 480., 3.57, 2.)\n",
      " (0., 520., 3.1 , 4.) (0., 660., 3.45, 4.) (0., 360., 3.  , 3.)\n",
      " (1., 580., 3.32, 2.) (0., 800., 2.78, 2.) (1., 680., 3.85, 3.)\n",
      " (0., 500., 3.53, 4.) (0., 620., 3.58, 2.) (0., 700., 4.  , 1.)\n",
      " (0., 800., 3.73, 1.) (0., 600., 3.4 , 3.) (1., 620., 3.37, 2.)\n",
      " (1., 660., 3.7 , 4.) (0., 540., 3.38, 4.) (0., 800., 4.  , 4.)\n",
      " (0., 620., 3.94, 4.) (0., 340., 2.9 , 1.) (1., 640., 3.63, 1.)\n",
      " (1., 660., 3.95, 2.) (0., 600., 3.13, 2.) (0., 620., 3.07, 2.)\n",
      " (0., 580., 3.77, 4.) (1., 680., 3.67, 2.) (0., 440., 3.13, 4.)\n",
      " (0., 620., 3.33, 3.) (0., 740., 3.34, 4.) (0., 760., 3.35, 3.)\n",
      " (0., 460., 3.07, 2.) (0., 800., 3.75, 2.) (0., 580., 3.29, 4.)\n",
      " (1., 620., 3.18, 2.) (0., 540., 3.5 , 2.) (1., 600., 3.64, 3.)\n",
      " (0., 540., 3.12, 1.) (1., 620., 3.95, 3.) (0., 460., 3.77, 3.)\n",
      " (0., 500., 2.86, 4.) (1., 660., 4.  , 2.) (1., 600., 3.58, 1.)\n",
      " (0., 620., 3.99, 3.) (0., 500., 2.81, 3.) (0., 400., 3.35, 3.)\n",
      " (0., 700., 3.83, 2.) (1., 600., 3.89, 1.) (1., 540., 3.55, 4.)\n",
      " (0., 580., 3.3 , 2.) (0., 560., 2.42, 2.) (1., 460., 3.64, 1.)\n",
      " (1., 520., 3.19, 3.) (1., 800., 3.66, 1.) (0., 660., 3.34, 3.)\n",
      " (1., 700., 3.56, 1.) (1., 660., 3.49, 2.) (1., 800., 3.74, 1.)\n",
      " (0., 360., 3.27, 3.) (0., 640., 3.73, 3.) (1., 460., 3.45, 3.)\n",
      " (0., 600., 3.59, 2.) (0., 640., 3.81, 2.) (0., 700., 3.82, 3.)\n",
      " (1., 740., 2.97, 2.) (1., 640., 2.94, 2.) (0., 660., 3.94, 2.)\n",
      " (1., 680., 3.27, 2.) (0., 540., 3.78, 4.) (1., 400., 3.23, 4.)\n",
      " (0., 800., 2.9 , 2.) (0., 420., 3.92, 4.) (1., 560., 3.59, 2.)\n",
      " (0., 640., 3.52, 4.) (1., 480., 2.91, 1.) (0., 600., 2.82, 4.)\n",
      " (0., 440., 3.15, 2.) (0., 400., 3.38, 2.) (0., 720., 3.77, 3.)\n",
      " (0., 660., 3.33, 2.) (0., 380., 3.38, 2.) (1., 680., 3.  , 4.)\n",
      " (0., 580., 3.57, 3.) (0., 720., 3.45, 4.) (0., 400., 2.93, 3.)\n",
      " (0., 420., 3.41, 4.) (1., 520., 3.9 , 3.) (1., 620., 3.17, 2.)\n",
      " (0., 500., 3.88, 4.) (0., 400., 3.08, 2.) (0., 560., 2.71, 3.)\n",
      " (0., 680., 3.64, 3.) (1., 600., 3.56, 2.) (0., 580., 4.  , 3.)\n",
      " (0., 720., 3.88, 3.) (0., 660., 3.49, 2.) (0., 580., 3.5 , 2.)\n",
      " (1., 680., 2.96, 3.) (0., 340., 3.15, 3.) (0., 800., 3.9 , 2.)\n",
      " (0., 700., 4.  , 3.) (0., 520., 3.29, 1.) (0., 640., 2.79, 2.)\n",
      " (1., 500., 3.6 , 3.) (0., 700., 3.28, 1.) (0., 600., 3.62, 3.)\n",
      " (0., 540., 3.94, 3.) (0., 700., 2.94, 2.) (0., 700., 3.92, 2.)\n",
      " (0., 520., 2.62, 2.) (0., 640., 3.5 , 2.) (1., 580., 2.86, 4.)\n",
      " (0., 680., 3.7 , 2.) (0., 580., 3.02, 2.) (1., 760., 3.35, 2.)\n",
      " (0., 380., 3.43, 3.) (1., 520., 3.74, 4.) (0., 540., 3.02, 4.)\n",
      " (0., 600., 3.63, 3.) (0., 740., 3.62, 4.) (1., 780., 3.8 , 3.)\n",
      " (0., 560., 3.61, 3.) (0., 580., 2.93, 2.) (0., 580., 4.  , 2.)\n",
      " (1., 600., 3.54, 1.) (0., 800., 3.6 , 2.) (1., 440., 3.45, 2.)\n",
      " (1., 600., 3.47, 2.) (1., 540., 3.39, 3.) (0., 480., 3.39, 4.)\n",
      " (0., 780., 3.87, 4.) (1., 620., 3.45, 2.) (0., 380., 2.91, 4.)\n",
      " (1., 720., 3.5 , 3.) (0., 740., 3.31, 1.) (0., 580., 3.25, 1.)\n",
      " (0., 380., 3.59, 4.) (0., 480., 3.44, 3.) (0., 580., 3.4 , 4.)\n",
      " (0., 600., 3.22, 1.) (0., 420., 2.67, 3.) (0., 480., 3.43, 2.)\n",
      " (1., 700., 4.  , 1.) (0., 480., 3.45, 2.) (0., 540., 3.33, 3.)\n",
      " (0., 500., 3.17, 3.) (0., 800., 3.31, 3.) (1., 520., 3.3 , 2.)\n",
      " (1., 800., 3.43, 2.) (0., 680., 3.48, 3.) (1., 800., 4.  , 3.)\n",
      " (0., 400., 3.65, 2.) (1., 480., 3.58, 1.) (0., 560., 3.36, 3.)\n",
      " (0., 500., 4.  , 3.) (0., 800., 3.47, 3.) (0., 640., 4.  , 3.)\n",
      " (0., 500., 3.35, 2.) (1., 720., 3.64, 1.) (1., 560., 2.98, 1.)\n",
      " (0., 700., 3.72, 2.) (0., 500., 2.71, 2.) (0., 480., 3.4 , 2.)\n",
      " (0., 620., 3.69, 3.) (0., 800., 3.97, 1.) (0., 480., 4.  , 2.)\n",
      " (0., 540., 3.04, 1.) (0., 400., 3.31, 3.) (1., 660., 2.91, 3.)\n",
      " (0., 460., 3.15, 4.) (1., 620., 3.61, 1.) (0., 560., 3.32, 4.)\n",
      " (1., 500., 3.13, 2.) (0., 600., 3.48, 2.) (0., 520., 3.51, 2.)\n",
      " (0., 620., 3.22, 2.) (0., 380., 2.94, 3.) (0., 700., 3.45, 3.)\n",
      " (1., 520., 4.  , 2.) (1., 760., 4.  , 1.) (0., 720., 4.  , 3.)\n",
      " (1., 580., 3.58, 1.) (0., 480., 2.55, 1.) (0., 640., 3.67, 3.)\n",
      " (1., 700., 3.56, 2.) (0., 660., 3.31, 4.) (0., 400., 3.51, 3.)\n",
      " (0., 500., 2.97, 4.) (0., 580., 2.88, 2.) (0., 720., 3.4 , 3.)\n",
      " (1., 580., 3.46, 2.) (0., 560., 3.33, 4.) (1., 620., 3.23, 3.)\n",
      " (0., 640., 3.38, 3.) (0., 660., 3.07, 3.) (0., 680., 3.19, 4.)\n",
      " (1., 800., 4.  , 1.) (1., 680., 3.46, 2.) (0., 620., 3.3 , 1.)\n",
      " (0., 300., 3.01, 3.) (0., 360., 2.56, 3.) (0., 660., 3.32, 1.)\n",
      " (0., 520., 2.73, 2.) (0., 440., 3.22, 1.) (1., 520., 3.74, 2.)\n",
      " (0., 580., 3.69, 1.) (1., 580., 3.2 , 2.) (0., 500., 2.98, 3.)\n",
      " (0., 500., 3.08, 3.) (1., 760., 3.  , 2.) (1., 440., 3.39, 2.)\n",
      " (1., 740., 3.52, 4.) (0., 560., 3.07, 2.) (0., 540., 3.28, 3.)\n",
      " (0., 680., 3.08, 4.) (0., 740., 3.54, 1.) (0., 680., 3.99, 3.)\n",
      " (0., 700., 2.88, 2.) (0., 560., 2.95, 2.) (0., 680., 3.34, 2.)\n",
      " (0., 560., 2.52, 2.) (0., 800., 3.54, 3.) (1., 660., 3.67, 3.)\n",
      " (0., 700., 3.08, 2.) (0., 740., 3.37, 4.) (0., 460., 2.87, 2.)\n",
      " (0., 340., 2.92, 3.) (1., 700., 4.  , 1.) (1., 600., 2.98, 2.)\n",
      " (0., 520., 2.85, 3.) (0., 640., 3.76, 3.) (0., 440., 3.17, 2.)\n",
      " (0., 800., 3.91, 3.) (0., 640., 3.35, 3.) (0., 520., 3.12, 2.)\n",
      " (0., 420., 2.26, 4.) (0., 440., 2.48, 4.) (0., 440., 3.24, 4.)\n",
      " (1., 660., 3.63, 2.) (0., 540., 3.19, 2.) (0., 580., 3.4 , 3.)\n",
      " (0., 700., 4.  , 2.) (1., 720., 3.42, 2.) (1., 740., 4.  , 3.)\n",
      " (1., 640., 3.19, 4.) (0., 740., 3.74, 4.) (0., 520., 2.98, 2.)\n",
      " (1., 800., 3.22, 1.) (0., 700., 2.9 , 4.) (1., 520., 3.81, 1.)\n",
      " (1., 800., 3.53, 1.) (1., 700., 3.52, 4.) (0., 560., 3.19, 3.)\n",
      " (0., 360., 3.14, 1.) (0., 620., 3.78, 3.) (0., 620., 3.4 , 2.)\n",
      " (0., 600., 3.28, 3.) (1., 660., 3.14, 2.) (0., 720., 3.84, 3.)\n",
      " (0., 540., 2.81, 3.) (0., 520., 2.93, 4.) (1., 800., 3.7 , 1.)\n",
      " (0., 500., 2.79, 4.) (0., 600., 3.31, 4.) (1., 620., 4.  , 1.)\n",
      " (0., 480., 3.13, 2.) (0., 500., 3.57, 3.) (0., 500., 3.31, 3.)]\n"
     ]
    }
   ],
   "source": [
    "# Read ./graduate_apply.csv file and store it in apply.\n",
    "apply = np.genfromtxt(\"./graduate_apply.csv\", delimiter=\",\", names=True)\n",
    "\n",
    "# Check the numer of elements in apply. (400)\n",
    "print(len(apply))\n",
    "\n",
    "# Put 0 ~ 300 columns in train and 300 ~ end columns in  test.\n",
    "train = apply[:300]\n",
    "test = apply[300:]\n",
    "print(len(train))\n",
    "print(len(test))\n",
    "\n",
    "# shuffle the data in train.\n",
    "print(apply[:300])\n",
    "np.random.shuffle(train)\n",
    "print(train)\n"
   ]
  },
  {
   "cell_type": "markdown",
   "metadata": {},
   "source": [
    "## Numpy Documentation\n",
    "\n",
    "This brief overview has touched on many of the important things that you need to know about numpy, but is far from complete. Check out the <a href=\"http://docs.scipy.org/doc/numpy/reference/\">numpy reference</a> to find out much more about numpy."
   ]
  }
 ],
 "metadata": {
  "kernelspec": {
   "display_name": "Python 3",
   "language": "python",
   "name": "python3"
  },
  "language_info": {
   "codemirror_mode": {
    "name": "ipython",
    "version": 3
   },
   "file_extension": ".py",
   "mimetype": "text/x-python",
   "name": "python",
   "nbconvert_exporter": "python",
   "pygments_lexer": "ipython3",
   "version": "3.6.4"
  }
 },
 "nbformat": 4,
 "nbformat_minor": 2
}
